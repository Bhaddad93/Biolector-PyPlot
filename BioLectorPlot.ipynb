{
 "cells": [
  {
   "cell_type": "code",
   "execution_count": 22,
   "id": "969c14a6",
   "metadata": {},
   "outputs": [],
   "source": [
    "import numpy as np\n",
    "import matplotlib.pyplot as plt\n",
    "import seaborn as sns\n",
    "from glob import glob\n",
    "import yaml\n",
    "import re\n",
    "from sklearn.linear_model import LinearRegression, LogisticRegression\n",
    "from scipy.optimize import curve_fit\n",
    "from ipywidgets import interact, interactive\n",
    "import ipywidgets as widgets"
   ]
  },
  {
   "cell_type": "code",
   "execution_count": 2,
   "id": "f1b25ca9",
   "metadata": {},
   "outputs": [],
   "source": [
    "# Nice BioLector\n",
    "#attributes = ['M', 'A01', 'X1', '', '1', '[1] Biomass-Gain2 Gain=2']\n",
    "#for attr in enumerate(attributes):\n",
    "#    print(attr)\n",
    "#print('\\n')\n",
    "# Mean BioLector\n",
    "#attributes = ['A01','X27','TB, E.coli','1']\n",
    "#for attr in enumerate(attributes):\n",
    "#    print(attr)"
   ]
  },
  {
   "cell_type": "code",
   "execution_count": 1,
   "id": "a4ee6205",
   "metadata": {},
   "outputs": [],
   "source": [
    "def pullFile(infile):\n",
    "    with open(infile, \"r\") as f:\n",
    "        DATA = []\n",
    "        GAIN = []\n",
    "        WellL, WellN = [], []\n",
    "        TIME, already = [[]], False\n",
    "        for line in f:\n",
    "            val = re.split(';',line)\n",
    "            if val[0] == 'M':\n",
    "                # creat empty list for data\n",
    "                temp = []\n",
    "                # populate the list\n",
    "                for obs in val[6:-1]:\n",
    "                    temp.append(float(obs))\n",
    "                # append data to output data list\n",
    "                DATA.append(temp)\n",
    "                GAIN.append(int(val[5][-1]))\n",
    "                WellL.append(val[1][0])\n",
    "                WellN.append(int(val[1][2]))\n",
    "                \n",
    "            if len(val[0]) == 3:\n",
    "                if (val[0][0] in ['A','B','C','D','E','F'] and val[0][1] == '0' and (val[3] in ['1','2'])):\n",
    "                    # creat empty list for data\n",
    "                    temp = []\n",
    "                    # populate the list\n",
    "                    for obs in val[4:-1]:\n",
    "                        temp.append(float(obs))\n",
    "                    # append data to output data list\n",
    "                    DATA.append(temp)\n",
    "                    GAIN.append(int(val[3]))\n",
    "                    WellL.append(val[0][0])\n",
    "                    WellN.append(int(val[0][2]))\n",
    "                    \n",
    "            if val[0] == 'T' and already == False:\n",
    "                for time in val[6:-1]:\n",
    "                    TIME[0].append(float(time))\n",
    "                already = True\n",
    "            if len(val) > 3:\n",
    "                if val[3] == 'TIME [h] ->' and already == False:\n",
    "                    for time in val[4:-1]:\n",
    "                        TIME[0].append(float(time))\n",
    "                    already = True\n",
    "\n",
    "        TIME = TIME * (len(DATA))\n",
    "        TIME = np.array(TIME)\n",
    "        WellL = np.array(WellL)\n",
    "        WellN = np.array(WellN)\n",
    "        GAIN = np.array(GAIN)\n",
    "        DATA = np.array(DATA)\n",
    "        \n",
    "    # Organize data by attributes and create masks\n",
    "    gList = sorted(set(GAIN))\n",
    "    gMask = {}\n",
    "    for g in gList:\n",
    "        gMask[g] = (GAIN == g)\n",
    "    #print(f\"Gains : {gList}\")\n",
    "\n",
    "    wlList = sorted(set(WellL))\n",
    "    wlMask = {}\n",
    "    for l in wlList:\n",
    "        wlMask[l] = (WellL == l)\n",
    "    #print(f\"Well Letters : {wlList}\")\n",
    "\n",
    "    wnList = sorted(set(WellN))\n",
    "    wnMask = {}\n",
    "    for n in wnList:\n",
    "        wnMask[n] = (WellN == n)\n",
    "    #print(f\"Well Numbers : {wnList}\")\n",
    "    \n",
    "    return(DATA,TIME,wlMask,wnMask,gMask)\n",
    "\n",
    "def subBlank(data,snsData,datMask,blankMask):\n",
    "    rawBlank = data[blankMask]\n",
    "    blankData = np.mean(rawBlank, axis=0)\n",
    "    blank = blankData.tolist()\n",
    "    blank = blank * int(snsData.shape[0]/blankData.shape[0])\n",
    "    blank = np.array(blank)\n",
    "    newDat = snsData - blank\n",
    "    return(newDat)\n",
    "    \n",
    "def snsPrep(data,time,mask):\n",
    "    plotData = data[mask].transpose()\n",
    "    plotData = plotData.reshape(plotData.shape[0]*plotData.shape[1],1)\n",
    "    plotTime = time[mask].transpose()\n",
    "    plotTime = plotTime.reshape(plotTime.shape[0]*plotTime.shape[1],1)\n",
    "    return(plotData,plotTime)\n",
    "\n",
    "def readConf(inYaml,wlMask,wnMask,gMask):\n",
    "    # Read in Configuration data\n",
    "    InData, DatMasks, DatLabels = [], [], []\n",
    "    with open(inYaml, 'r') as file:\n",
    "        docs = yaml.safe_load_all(file)\n",
    "        for doc in docs:\n",
    "            InData.append(doc)\n",
    "    # Loop through systems creating masks for the data and corresponding blanks       \n",
    "    for sys in InData:\n",
    "        \n",
    "        datWell = wnMask[sys['Well-N'][0]]\n",
    "        for i in sys['Well-N']:\n",
    "            datWell = datWell | wnMask[i]\n",
    "            \n",
    "        datLet = wlMask[sys['Well-L'][0]]\n",
    "        for i in sys['Well-L']:\n",
    "            datLet = datLet | wlMask[i]\n",
    "        \n",
    "        blankWell = wnMask[sys['Blank-N'][0]]\n",
    "        for i in sys['Blank-N']:\n",
    "            blankWell = blankWell | wnMask[i]\n",
    "            \n",
    "        blankLet = wlMask[sys['Blank-L'][0]]\n",
    "        for i in sys['Blank-L']:\n",
    "            blankLet = blankLet | wlMask[i]\n",
    "        \n",
    "        gain = gMask[sys['Gain']]\n",
    "        \n",
    "        DatMasks.append([datLet & datWell & gain, blankLet & blankWell & gain])\n",
    "        DatLabels.append(sys['Name'])\n",
    "    return(DatMasks,DatLabels)\n",
    "\n",
    "def dataPrep(infile,inYaml):\n",
    "    # Collect data from file\n",
    "    DATA,TIME,wlMask,wnMask,gMask = pullFile(infile)\n",
    "    # Group the Collected Data\n",
    "    SysMasks, SysLabels = readConf(inYaml,wlMask,wnMask,gMask)\n",
    "    return(DATA,TIME,SysMasks,SysLabels)\n",
    "\n",
    "def dataPlot(DATA,TIME,masks,labels,xl='Time (h)',yl='Biomass (A.U.)',lw=2):\n",
    "    plt.clf()\n",
    "    plt.rcParams.update({'font.size': 20})\n",
    "    for lab in enumerate(labels):\n",
    "        print(lab)\n",
    "    choice = input(\"Which Strains? \")\n",
    "    choice = choice.split(',')\n",
    "    colorchoice = input(\"Which Colours? \")\n",
    "    colorchoice = colorchoice.split(',')\n",
    "    Fig, ax = plt.subplots(1,1,figsize=(10,5))\n",
    "    for i,c in zip(choice,colorchoice):\n",
    "        i = int(i)\n",
    "        plotData, plotTime = snsPrep(DATA,TIME,masks[i][0])\n",
    "        plotData = subBlank(DATA,plotData,masks[i][0],masks[i][1])\n",
    "        sns.lineplot(x=plotTime[:,0],y=plotData[:,0],label=labels[i],ax=ax,color=c,linewidth=lw)\n",
    "    plt.xlabel(xl)\n",
    "    plt.ylabel(yl)\n",
    "    plt.yscale(\"log\")\n",
    "    plt.legend(bbox_to_anchor=(1,1))\n",
    "    plt.tight_layout()\n",
    "    plt.show()\n",
    "    save = bool(int(input(\"Save image? 0 = no, 1 = yes\\n\")))\n",
    "    if save == True:\n",
    "        outname = str(input(\"Name of file? \"))\n",
    "        Fig.savefig(f\"./{outname}.png\",dpi=300,transparent=False)\n",
    "        \n",
    "def FindRateMean(xmin,xmax,Strain):\n",
    "    time = TIME[0][xmin:xmax].reshape(-1,1)\n",
    "    data = np.mean(DATA[SysMasks[Strain][0]],axis=0)[xmin:xmax]\n",
    "    linreg = LinearRegression().fit(time, data)\n",
    "    r_sq = linreg.score(time, data)\n",
    "    newline = linreg.predict(time)\n",
    "    Fig, ax = plt.subplots(1,2,figsize=(8,4))\n",
    "    ax[0].plot(TIME[0],np.mean(DATA[SysMasks[Strain][0]],axis=0))\n",
    "    ax[0].plot(time,newline,linewidth=3,c='red',label=(f\"rate = {linreg.coef_[0]:.3f} A.U./hr\\nr^2 = {r_sq:.3f}\"))\n",
    "    ax[1].scatter(x=time,y=data)\n",
    "    ax[1].plot(time,newline,linewidth=3,c='red',label=(f\"rate = {linreg.coef_[0]:.3f} A.U./hr\\nr^2 = {r_sq:.3f}\"))\n",
    "    #plt.legend(bbox_to_anchor=(1,1))\n",
    "    plt.xlabel(\"Time (h)\")\n",
    "    plt.ylabel(\"BioMass (A.U.)\")\n",
    "    ax[0].set_yscale(\"log\")\n",
    "    ax[1].set_yscale(\"log\")\n",
    "    plt.tight_layout()\n",
    "    print(f\"rate = {linreg.coef_[0]:.3f} A.U./hr\\nr^2 = {r_sq:.3f} \\nTd = {np.log(2)/linreg.coef_[0]}\")\n",
    "    print(f\"Strain: {SysLabels[Strain]}\")\n",
    "    \n",
    "def FindRateLog(xmin,xmax,Strain):\n",
    "    def logf(x,A,B):\n",
    "        return A * np.exp(B * x)\n",
    "    time = TIME[0][xmin:xmax]\n",
    "    data = np.mean(DATA[SysMasks[Strain][0]],axis=0)[xmin:xmax]\n",
    "    popt, pcov = curve_fit(logf, time, data)\n",
    "    Fig, ax = plt.subplots(1,2,figsize=(8,4))\n",
    "    ax[0].plot(TIME[0],np.mean(DATA[SysMasks[Strain][0]],axis=0))\n",
    "    ax[0].plot(time,logf(time, *popt),linewidth=3,c='red',label=(f\"boogers\"))\n",
    "    ax[0].set_yscale(\"log\")\n",
    "    ax[1].scatter(x=time,y=data)\n",
    "    ax[1].plot(time,logf(time, *popt),linewidth=3,c='red',label=(f\"boogers\"))\n",
    "    ax[1].set_yscale(\"log\")\n",
    "    plt.tight_layout()\n",
    "    print(f\"Rate: {popt[1]:.2f}\")\n",
    "    print(f\"Doubling Time: {np.log(2)/popt[1]:.2f} hr\")\n",
    "    print(f\"Strain: {SysLabels[Strain]}\")\n",
    "    \n",
    "def FindRateRaw(xmin,xmax,Strain):\n",
    "    def logf(x,A,B):\n",
    "        return A * np.exp(B * x)\n",
    "    time = TIME[0][xmin:xmax]\n",
    "    data = DATA[SysMasks[Strain][0]]\n",
    "    rate, Td = [], []\n",
    "    for dat in data:\n",
    "        data = dat\n",
    "        dat = dat[xmin:xmax]\n",
    "        popt, pcov = curve_fit(logf, time, dat)\n",
    "        plt.plot(TIME[0],data)\n",
    "        plt.plot(time,logf(time, *popt),linewidth=3,c='red',label=(f\"rate = {popt[1]:.3f}\"))\n",
    "        rate.append(popt[1])\n",
    "        Td.append(np.log(2)/popt[1])\n",
    "    print(f\"Avg. Rate {np.mean(rate):.3f} ({np.std(rate):.3f})\\n\")\n",
    "    print(f\"Avg. Td   {np.mean(Td):.3f} ({np.std(Td):.3f})\\n\")\n",
    "    #plt.legend(bbox_to_anchor=(1,1))\n",
    "    plt.xlabel(\"Time (h)\")\n",
    "    plt.ylabel(\"Biomass (A.U.)\")\n",
    "    print(f\"Strain: {SysLabels[Strain]}\")\n",
    "    \n",
    "def saveRate(xmin,xmax,Strain):\n",
    "    outname = str(input(\"Choose output name. \"))\n",
    "    time = TIME[0][xmin:xmax].reshape(-1,1)\n",
    "    data = np.mean(DATA[SysMasks[Strain][0]],axis=0)[xmin:xmax]\n",
    "    linreg = LinearRegression().fit(time, data)\n",
    "    r_sq = linreg.score(time, data)\n",
    "    newline = linreg.predict(time)\n",
    "    Fig, ax = plt.subplots(1,2,figsize=(8,4))\n",
    "    ax[0].plot(TIME[0],np.mean(DATA[SysMasks[Strain][0]],axis=0))\n",
    "    ax[0].plot(time,newline,linewidth=3,c='red',label=(f\"rate = {linreg.coef_[0]:.3f} A.U./hr\\nr^2 = {r_sq:.3f}\"))\n",
    "    ax[1].scatter(x=time,y=data)\n",
    "    ax[1].plot(time,newline,linewidth=3,c='red',label=(f\"rate = {linreg.coef_[0]:.3f} A.U./hr\\nr^2 = {r_sq:.3f}\"))\n",
    "    plt.legend(bbox_to_anchor=(1,1))\n",
    "    plt.xlabel(\"Time (h)\")\n",
    "    plt.ylabel(\"BioMass (A.U.)\")\n",
    "    plt.yscale(\"log\")\n",
    "    plt.tight_layout()\n",
    "    print(f\"rate = {linreg.coef_[0]:.3f} A.U./hr\\nr^2 = {r_sq:.3f}\")\n",
    "    print(f\"Strain: {SysLabels[Strain]}\")\n",
    "    plt.savefig(f\"{outname}.png\",dpi=300)"
   ]
  },
  {
   "cell_type": "markdown",
   "id": "dc505cb4",
   "metadata": {},
   "source": [
    "# Run Data-Prep"
   ]
  },
  {
   "cell_type": "code",
   "execution_count": 92,
   "id": "cb810495",
   "metadata": {},
   "outputs": [],
   "source": [
    "DATA, TIME, SysMasks, SysLabels = dataPrep('./205_Susana_growth_gain2.csv','./205_Susana_growth_gain2.yml')\n",
    "#DATA, TIME, SysMasks, SysLabels = dataPrep('./susana-OD_20220526_142639_TRANSFORM_CALIBIOMASS.csv','./susana-OD_20220526_142639_TRANSFORM_CALIBIOMASS.yml')"
   ]
  },
  {
   "cell_type": "markdown",
   "id": "2b69defa",
   "metadata": {},
   "source": [
    "# Run Data-Plot"
   ]
  },
  {
   "cell_type": "code",
   "execution_count": 6,
   "id": "57196900",
   "metadata": {},
   "outputs": [
    {
     "name": "stdout",
     "output_type": "stream",
     "text": [
      "(0, 'MB001(DE3) pMKEx3 (ethanol)')\n",
      "(1, 'MB001(DE3) pMKEx3 (glucose)')\n",
      "(2, 'MB001(DE3) pMKEx3_DzAda (ethanol)')\n",
      "(3, 'MB001(DE3) pMKEx3_DzAda (glucose)')\n",
      "(4, 'MB001(DE3)Δcg3096 pMKEx3 (ethanol)')\n",
      "(5, 'MB001(DE3)Δcg3096 pMKEx3 (glucose)')\n",
      "(6, 'MB001(DE3)Δcg3096 pMKEx3_Cg3096 (ethanol)')\n",
      "(7, 'MB001(DE3)Δcg3096 pMKEx3_Cg3096 (glucose)')\n",
      "(8, 'MB001(DE3)Δcg3096 pMKEx3_DzAda (ethanol)')\n",
      "(9, 'MB001(DE3)Δcg3096 pMKEx3_DzAda (glucose)')\n",
      "(10, 'MB001(DE3)Δcg3096 pMKEx3_Cg3096 100µM IPTG')\n",
      "(11, 'MB001(DE3)Δcg3096 pMKEx3_DzAda 100µM IPTG')\n",
      "Which Strains? 0,1,2\n",
      "Which Colours? blue,white,green\n"
     ]
    },
    {
     "data": {
      "text/plain": [
       "<Figure size 432x288 with 0 Axes>"
      ]
     },
     "metadata": {},
     "output_type": "display_data"
    },
    {
     "data": {
      "image/png": "[encoded data removed]",
      "text/plain": [
       "<Figure size 720x360 with 1 Axes>"
      ]
     },
     "metadata": {
      "needs_background": "light"
     },
     "output_type": "display_data"
    },
    {
     "name": "stdout",
     "output_type": "stream",
     "text": [
      "Save image? 0 = no, 1 = yes\n",
      "0\n"
     ]
    }
   ],
   "source": [
    "DATA, TIME, SysMasks, SysLabels = dataPrep('./205_Susana_growth_gain2.csv','./205_Susana_growth_gain2.yml')\n",
    "dataPlot(DATA,TIME,SysMasks,SysLabels)"
   ]
  },
  {
   "cell_type": "markdown",
   "id": "2584725f",
   "metadata": {},
   "source": [
    "# Find Rates"
   ]
  },
  {
   "cell_type": "code",
   "execution_count": 108,
   "id": "3b75831d",
   "metadata": {},
   "outputs": [
    {
     "data": {
      "application/vnd.jupyter.widget-view+json": {
       "model_id": "0e9ddebbb5ea43789e8a119f307ce966",
       "version_major": 2,
       "version_minor": 0
      },
      "text/plain": [
       "interactive(children=(IntSlider(value=187, description='xmin', max=375), IntSlider(value=195, description='xma…"
      ]
     },
     "metadata": {},
     "output_type": "display_data"
    }
   ],
   "source": [
    "interactive(FindRateLog, xmin = (0,len(TIME[0]),1), xmax = (15,len(TIME[0]),1), Strain = (0,len(SysMasks)-1,1))"
   ]
  },
  {
   "cell_type": "code",
   "execution_count": 106,
   "id": "9408f42d",
   "metadata": {},
   "outputs": [
    {
     "data": {
      "application/vnd.jupyter.widget-view+json": {
       "model_id": "e13d8cc6aca84ff8bda2bb3bcd63d919",
       "version_major": 2,
       "version_minor": 0
      },
      "text/plain": [
       "interactive(children=(IntSlider(value=187, description='xmin', max=375), IntSlider(value=190, description='xma…"
      ]
     },
     "metadata": {},
     "output_type": "display_data"
    },
    {
     "data": {
      "text/plain": [
       "<function __main__.FindRateRaw(xmin, xmax, Strain)>"
      ]
     },
     "execution_count": 106,
     "metadata": {},
     "output_type": "execute_result"
    }
   ],
   "source": [
    "interact(FindRateRaw, xmin = (0,len(TIME[0]),1), xmax = (5,len(TIME[0]),1), Strain = (0,len(SysMasks)-1,1))"
   ]
  },
  {
   "cell_type": "markdown",
   "id": "3ffa7717",
   "metadata": {},
   "source": [
    "# Experiment 20220608"
   ]
  },
  {
   "cell_type": "code",
   "execution_count": null,
   "id": "4e8672e2",
   "metadata": {},
   "outputs": [],
   "source": [
    "DATA, TIME, SysMasks, SysLabels = dataPrep('./susana-OD_20220526_142639_TRANSFORM_CALIBIOMASS.csv','./susana-OD_20220526_142639_TRANSFORM_CALIBIOMASS.yml')"
   ]
  },
  {
   "cell_type": "code",
   "execution_count": null,
   "id": "9573553a",
   "metadata": {},
   "outputs": [],
   "source": []
  },
  {
   "cell_type": "code",
   "execution_count": null,
   "id": "2804cb72",
   "metadata": {},
   "outputs": [],
   "source": []
  },
  {
   "cell_type": "code",
   "execution_count": null,
   "id": "5a6adbbd",
   "metadata": {},
   "outputs": [],
   "source": []
  },
  {
   "cell_type": "code",
   "execution_count": null,
   "id": "6fbe0d6c",
   "metadata": {},
   "outputs": [],
   "source": []
  },
  {
   "cell_type": "code",
   "execution_count": 7,
   "id": "4ef37ed5",
   "metadata": {},
   "outputs": [],
   "source": [
    "def barPlot(DATA,TIME,masks,labels,xl='Strains',yl='Biomass (A.U.)',lw=2):\n",
    "    def barPrep(data,time,mask):\n",
    "        plotData = data[mask]\n",
    "        barData = plotData[:,-1]\n",
    "        barData = np.array(barData)\n",
    "        return(barData)\n",
    "    plt.clf()\n",
    "    plt.rcParams.update({'font.size': 20})\n",
    "    for lab in enumerate(labels):\n",
    "        print(lab)\n",
    "    choice = input(\"Which Strains? \")\n",
    "    choice = choice.split(',')\n",
    "    colorchoice = input(\"Which Colours? \")\n",
    "    colorchoice = colorchoice.split(',')\n",
    "    Fig, ax = plt.subplots(1,1,figsize=(10,10))\n",
    "    plotData, plotErr = [], []\n",
    "    for i,c,n in zip(choice,colorchoice,range(len(choice))):\n",
    "        i = int(i)\n",
    "        barData = barPrep(DATA,TIME,masks[i][0])\n",
    "        barBlank = barPrep(DATA,TIME,masks[i][1])\n",
    "        plotData = np.mean(barData - barBlank)\n",
    "        plotErr = np.std(barData - barBlank)\n",
    "        ax.bar(n,plotData,yerr=plotErr,color=c,label=labels[i])\n",
    "    plt.xlabel(xl)\n",
    "    plt.ylabel(yl)\n",
    "    plt.xticks([i for i in range(len(choice))],[i for i in choice])\n",
    "    plt.yscale(\"linear\")\n",
    "    #plt.legend(bbox_to_anchor=(1,1))\n",
    "    plt.tight_layout()\n",
    "    plt.show()\n",
    "    save = bool(int(input(\"Save image? 0 = no, 1 = yes\\n\")))\n",
    "    if save == True:\n",
    "        outname = str(input(\"Name of file? \"))\n",
    "        Fig.savefig(f\"./{outname}.png\",dpi=300,transparent=False)"
   ]
  },
  {
   "cell_type": "code",
   "execution_count": null,
   "id": "ac6d3d93",
   "metadata": {},
   "outputs": [],
   "source": [
    "barPlot(DATA,TIME,SysMasks,SysLabels)"
   ]
  },
  {
   "cell_type": "code",
   "execution_count": 54,
   "id": "1da9bebd",
   "metadata": {},
   "outputs": [],
   "source": [
    "def func(x, a, b, c):\n",
    "    return a * np.exp(-b * x) + c\n",
    "DATA\n",
    "y = logf(xdata, 2.5, 1.3)"
   ]
  },
  {
   "cell_type": "code",
   "execution_count": 56,
   "id": "335030e4",
   "metadata": {},
   "outputs": [
    {
     "data": {
      "text/plain": [
       "(96, 191)"
      ]
     },
     "execution_count": 56,
     "metadata": {},
     "output_type": "execute_result"
    }
   ],
   "source": [
    "DATA.shape"
   ]
  },
  {
   "cell_type": "code",
   "execution_count": 88,
   "id": "1924df7d",
   "metadata": {},
   "outputs": [
    {
     "data": {
      "text/plain": [
       "2980.9579870417283"
      ]
     },
     "execution_count": 88,
     "metadata": {},
     "output_type": "execute_result"
    }
   ],
   "source": [
    "np.exp(0.8)"
   ]
  },
  {
   "cell_type": "code",
   "execution_count": null,
   "id": "a94f8e47",
   "metadata": {},
   "outputs": [],
   "source": []
  },
  {
   "cell_type": "code",
   "execution_count": null,
   "id": "c6bdfb33",
   "metadata": {},
   "outputs": [],
   "source": []
  },
  {
   "cell_type": "code",
   "execution_count": null,
   "id": "df9e3c4c",
   "metadata": {},
   "outputs": [],
   "source": []
  },
  {
   "cell_type": "code",
   "execution_count": null,
   "id": "431b7914",
   "metadata": {},
   "outputs": [],
   "source": []
  },
  {
   "cell_type": "code",
   "execution_count": null,
   "id": "a7aeb5d8",
   "metadata": {},
   "outputs": [],
   "source": []
  },
  {
   "cell_type": "code",
   "execution_count": null,
   "id": "9358938d",
   "metadata": {},
   "outputs": [],
   "source": []
  },
  {
   "cell_type": "code",
   "execution_count": null,
   "id": "63c0eaba",
   "metadata": {},
   "outputs": [],
   "source": []
  }
 ],
 "metadata": {
  "kernelspec": {
   "display_name": "Python 3",
   "language": "python",
   "name": "python3"
  },
  "language_info": {
   "codemirror_mode": {
    "name": "ipython",
    "version": 3
   },
   "file_extension": ".py",
   "mimetype": "text/x-python",
   "name": "python",
   "nbconvert_exporter": "python",
   "pygments_lexer": "ipython3",
   "version": "3.9.2"
  }
 },
 "nbformat": 4,
 "nbformat_minor": 5
}
